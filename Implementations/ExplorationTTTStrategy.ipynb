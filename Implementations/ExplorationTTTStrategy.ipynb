{
 "cells": [
  {
   "cell_type": "code",
   "execution_count": 19,
   "metadata": {},
   "outputs": [
    {
     "ename": "SyntaxError",
     "evalue": "invalid syntax (<ipython-input-19-25d3cfac925d>, line 206)",
     "output_type": "error",
     "traceback": [
      "\u001b[0;36m  File \u001b[0;32m\"<ipython-input-19-25d3cfac925d>\"\u001b[0;36m, line \u001b[0;32m206\u001b[0m\n\u001b[0;31m    for debug\u001b[0m\n\u001b[0m             ^\u001b[0m\n\u001b[0;31mSyntaxError\u001b[0m\u001b[0;31m:\u001b[0m invalid syntax\n"
     ]
    }
   ],
   "source": [
    "#######################################################################\n",
    "# Copyright (C)                                                       #\n",
    "# 2016 - 2018 Shangtong Zhang(zhangshangtong.cpp@gmail.com)           #\n",
    "# 2016 Jan Hakenberg(jan.hakenberg@gmail.com)                         #\n",
    "# 2016 Tian Jun(tianjun.cpp@gmail.com)                                #\n",
    "# 2016 Kenta Shimada(hyperkentakun@gmail.com)                         #\n",
    "# Permission given to modify the code as long as you keep this        #\n",
    "# declaration at the top                                              #\n",
    "#######################################################################\n",
    "\n",
    "import numpy as np\n",
    "import pickle\n",
    "\n",
    "BOARD_ROWS = 3\n",
    "BOARD_COLS = 3\n",
    "BOARD_SIZE = BOARD_ROWS * BOARD_COLS\n",
    "\n",
    "class State:\n",
    "    def __init__(self):\n",
    "        # the board is represented by an n * n array,\n",
    "        # 1 represents a chessman of the player who moves first,\n",
    "        # -1 represents a chessman of another player\n",
    "        # 0 represents an empty position\n",
    "        self.data = np.zeros((BOARD_ROWS, BOARD_COLS))\n",
    "        self.winner = None\n",
    "        self.hash_val = None\n",
    "        self.end = None\n",
    "\n",
    "    # compute the hash value for one state, it's unique\n",
    "    def hash(self):\n",
    "        if self.hash_val is None:\n",
    "            self.hash_val = 0\n",
    "            for i in self.data.reshape(BOARD_ROWS * BOARD_COLS):\n",
    "                if i == -1:\n",
    "                    i = 2\n",
    "                self.hash_val = self.hash_val * 3 + i\n",
    "        return int(self.hash_val)\n",
    "\n",
    "    # check whether a player has won the game, or it's a tie\n",
    "    def is_end(self):\n",
    "        if self.end is not None:\n",
    "            return self.end\n",
    "        results = []\n",
    "        # check row\n",
    "        for i in range(0, BOARD_ROWS):\n",
    "            results.append(np.sum(self.data[i, :]))\n",
    "        # check columns\n",
    "        for i in range(0, BOARD_COLS):\n",
    "            results.append(np.sum(self.data[:, i]))\n",
    "\n",
    "        # check diagonals\n",
    "        results.append(0)\n",
    "        for i in range(0, BOARD_ROWS):\n",
    "            results[-1] += self.data[i, i]\n",
    "        results.append(0)\n",
    "        for i in range(0, BOARD_ROWS):\n",
    "            results[-1] += self.data[i, BOARD_ROWS - 1 - i]\n",
    "\n",
    "        for result in results:\n",
    "            if result == 3:\n",
    "                self.winner = 1\n",
    "                self.end = True\n",
    "                return self.end\n",
    "            if result == -3:\n",
    "                self.winner = -1\n",
    "                self.end = True\n",
    "                return self.end\n",
    "\n",
    "        # whether it's a tie\n",
    "        sum = np.sum(np.abs(self.data))\n",
    "        if sum == BOARD_ROWS * BOARD_COLS:\n",
    "            self.winner = 0\n",
    "            self.end = True\n",
    "            return self.end\n",
    "\n",
    "        # game is still going on\n",
    "        self.end = False\n",
    "        return self.end\n",
    "\n",
    "    # @symbol: 1 or -1\n",
    "    # put chessman symbol in position (i, j)\n",
    "    def next_state(self, i, j, symbol):\n",
    "        new_state = State()\n",
    "        new_state.data = np.copy(self.data)\n",
    "        new_state.data[i, j] = symbol\n",
    "        return new_state\n",
    "\n",
    "    # print the board\n",
    "    def print_state(self):\n",
    "        for i in range(0, BOARD_ROWS):\n",
    "            print('-------------')\n",
    "            out = '| '\n",
    "            for j in range(0, BOARD_COLS):\n",
    "                if self.data[i, j] == 1:\n",
    "                    token = '*'\n",
    "                if self.data[i, j] == 0:\n",
    "                    token = '0'\n",
    "                if self.data[i, j] == -1:\n",
    "                    token = 'x'\n",
    "                out += token + ' | '\n",
    "            print(out)\n",
    "        print('-------------')\n",
    "\n",
    "def get_all_states_impl(current_state, current_symbol, all_states):\n",
    "    for i in range(0, BOARD_ROWS):\n",
    "        for j in range(0, BOARD_COLS):\n",
    "            if current_state.data[i][j] == 0:\n",
    "                newState = current_state.next_state(i, j, current_symbol)\n",
    "                newHash = newState.hash()\n",
    "                if newHash not in all_states.keys():\n",
    "                    isEnd = newState.is_end()\n",
    "                    all_states[newHash] = (newState, isEnd)\n",
    "                    if not isEnd:\n",
    "                        get_all_states_impl(newState, -current_symbol, all_states)\n",
    "\n",
    "def get_all_states():\n",
    "    current_symbol = 1\n",
    "    current_state = State()\n",
    "    all_states = dict()\n",
    "    all_states[current_state.hash()] = (current_state, current_state.is_end())\n",
    "    get_all_states_impl(current_state, current_symbol, all_states)\n",
    "    return all_states\n",
    "\n",
    "# all possible board configurations\n",
    "all_states = get_all_states()\n",
    "\n",
    "class Judger:\n",
    "    # @player1: the player who will move first, its chessman will be 1\n",
    "    # @player2: another player with a chessman -1\n",
    "    def __init__(self, player1, player2):\n",
    "        self.p1 = player1\n",
    "        self.p2 = player2\n",
    "        self.current_player = None\n",
    "        self.p1_symbol = 1\n",
    "        self.p2_symbol = -1\n",
    "        self.p1.set_symbol(self.p1_symbol)\n",
    "        self.p2.set_symbol(self.p2_symbol)\n",
    "        self.current_state = State()\n",
    "\n",
    "    def reset(self):\n",
    "        self.p1.reset()\n",
    "        self.p2.reset()\n",
    "\n",
    "    def alternate(self):\n",
    "        while True:\n",
    "            yield self.p1\n",
    "            yield self.p2\n",
    "\n",
    "    # @print_state: if True, print each board during the game\n",
    "    def play(self, print_state=False):\n",
    "        alternator = self.alternate()\n",
    "        self.reset()\n",
    "        current_state = State()\n",
    "        self.p1.set_state(current_state)\n",
    "        self.p2.set_state(current_state)\n",
    "        while True:\n",
    "            player = next(alternator)\n",
    "            if print_state:\n",
    "                current_state.print_state()\n",
    "            [i, j, symbol] = player.act()\n",
    "            next_state_hash = current_state.next_state(i, j, symbol).hash()\n",
    "            current_state, is_end = all_states[next_state_hash]\n",
    "            self.p1.set_state(current_state)\n",
    "            self.p2.set_state(current_state)\n",
    "            if is_end:\n",
    "                if print_state:\n",
    "                    current_state.print_state()\n",
    "                return current_state.winner\n",
    "\n",
    "# AI player\n",
    "class Player:\n",
    "    # @step_size: the step size to update estimations\n",
    "    # @epsilon: the probability to explore\n",
    "    def __init__(self, step_size=0.1, epsilon=0.1):\n",
    "        self.estimations = dict()\n",
    "        self.step_size = step_size\n",
    "        self.epsilon = epsilon\n",
    "        self.states = []\n",
    "        self.greedy = []\n",
    "\n",
    "    def reset(self):\n",
    "        self.states = []\n",
    "        self.greedy = []\n",
    "\n",
    "    def set_state(self, state):\n",
    "        self.states.append(state)\n",
    "        self.greedy.append(True)\n",
    "\n",
    "    def set_symbol(self, symbol):\n",
    "        self.symbol = symbol\n",
    "        for hash_val in all_states.keys():\n",
    "            (state, is_end) = all_states[hash_val]\n",
    "            if is_end:\n",
    "                if state.winner == self.symbol:\n",
    "                    self.estimations[hash_val] = 1.0\n",
    "                elif state.winner == 0:\n",
    "                    # we need to distinguish between a tie and a lose\n",
    "                    self.estimations[hash_val] = 0.5\n",
    "                else:\n",
    "                    self.estimations[hash_val] = 0\n",
    "            else:\n",
    "                self.estimations[hash_val] = 0.5\n",
    "\n",
    "    # update value estimation\n",
    "    def backup(self):\n",
    "        for debug\n",
    "        print('player trajectory')\n",
    "        for state in self.states:\n",
    "            state.print_state()\n",
    "\n",
    "        self.states = [state.hash() for state in self.states]\n",
    "\n",
    "        for i in reversed(range(len(self.states) - 1)):\n",
    "            state = self.states[i]\n",
    "            td_error = self.greedy[i] * (self.estimations[self.states[i + 1]] - self.estimations[state])\n",
    "#             td_error = self.estimations[self.states[i + 1]] - self.estimations[state]\n",
    "            self.estimations[state] += self.step_size * td_error\n",
    "\n",
    "    # choose an action based on the state\n",
    "    def act(self):\n",
    "        state = self.states[-1]\n",
    "        next_states = []\n",
    "        next_positions = []\n",
    "        for i in range(BOARD_ROWS):\n",
    "            for j in range(BOARD_COLS):\n",
    "                if state.data[i, j] == 0:\n",
    "                    next_positions.append([i, j])\n",
    "                    next_states.append(state.next_state(i, j, self.symbol).hash())\n",
    "\n",
    "        if np.random.rand() < self.epsilon:\n",
    "            action = next_positions[np.random.randint(len(next_positions))]\n",
    "            action.append(self.symbol)\n",
    "            self.greedy[-1] = False\n",
    "            return action\n",
    "\n",
    "        values = []\n",
    "        for hash, pos in zip(next_states, next_positions):\n",
    "            values.append((self.estimations[hash], pos))\n",
    "        # to select one of the actions of equal value at random\n",
    "        np.random.shuffle(values)\n",
    "        values.sort(key=lambda x: x[0], reverse=True)\n",
    "        action = values[0][1]\n",
    "        action.append(self.symbol)\n",
    "        return action\n",
    "\n",
    "    def save_policy(self):\n",
    "        with open('policy_%s.bin' % ('first' if self.symbol == 1 else 'second'), 'wb') as f:\n",
    "            pickle.dump(self.estimations, f)\n",
    "\n",
    "    def load_policy(self):\n",
    "        with open('policy_%s.bin' % ('first' if self.symbol == 1 else 'second'), 'rb') as f:\n",
    "            self.estimations = pickle.load(f)\n",
    "\n",
    "# human interface\n",
    "# input a number to put a chessman\n",
    "# | q | w | e |\n",
    "# | a | s | d |\n",
    "# | z | x | c |\n",
    "class HumanPlayer:\n",
    "    def __init__(self, **kwargs):\n",
    "        self.symbol = None\n",
    "        self.keys = ['q', 'w', 'e', 'a', 's', 'd', 'z', 'x', 'c']\n",
    "        self.state = None\n",
    "        return\n",
    "\n",
    "    def reset(self):\n",
    "        return\n",
    "\n",
    "    def set_state(self, state):\n",
    "        self.state = state\n",
    "\n",
    "    def set_symbol(self, symbol):\n",
    "        self.symbol = symbol\n",
    "        return\n",
    "\n",
    "    def backup(self, _):\n",
    "        return\n",
    "\n",
    "    def act(self):\n",
    "        self.state.print_state()\n",
    "        key = input(\"Input your position:\")\n",
    "        data = self.keys.index(key)\n",
    "        i = data // int(BOARD_COLS)\n",
    "        j = data % BOARD_COLS\n",
    "        return (i, j, self.symbol)\n",
    "\n",
    "def train(epochs, print_every_n=500, p1Eps = .01, p2Eps = .01):\n",
    "    log = []\n",
    "    player1 = Player(epsilon=p1Eps)\n",
    "    player2 = Player(epsilon=p2Eps)\n",
    "    judger = Judger(player1, player2)\n",
    "    player1_win = 0.0\n",
    "    player2_win = 0.0\n",
    "    for i in range(1, epochs + 1):\n",
    "        winner = judger.play(print_state=False)\n",
    "        if winner == 1:\n",
    "            player1_win += 1\n",
    "        if winner == -1:\n",
    "            player2_win += 1\n",
    "        if i % print_every_n == 0:\n",
    "#             print('Epoch %d, player 1 winrate: %.02f, player 2 winrate: %.02f' % (i, player1_win / i, player2_win / i))\n",
    "            log.append((i, player1_win / i, player2_win / i))\n",
    "        player1.backup()\n",
    "        player2.backup()\n",
    "        judger.reset()\n",
    "    player1.save_policy()\n",
    "    player2.save_policy()\n",
    "    return log\n",
    "\n",
    "def compete(turns, p1Eps = 0, p2Eps = 0):\n",
    "    log = []\n",
    "    player1 = Player(epsilon=p1Eps)\n",
    "    player2 = Player(epsilon=p2Eps)\n",
    "    judger = Judger(player1, player2)\n",
    "    player1.load_policy()\n",
    "    player2.load_policy()\n",
    "    player1_win = 0.0\n",
    "    player2_win = 0.0\n",
    "    for _ in range(0, turns):\n",
    "        winner = judger.play()\n",
    "        if winner == 1:\n",
    "            player1_win += 1\n",
    "        if winner == -1:\n",
    "            player2_win += 1\n",
    "        judger.reset()\n",
    "    print('%d turns, player 1 win %.02f, player 2 win %.02f' % (turns, player1_win / turns, player2_win / turns))\n",
    "\n",
    "# The game is a zero sum game. If both players are playing with an optimal strategy, every game will end in a tie.\n",
    "# So we test whether the AI can guarantee at least a tie if it goes second.\n",
    "def play():\n",
    "    while True:\n",
    "        player1 = HumanPlayer()\n",
    "        player2 = Player(epsilon=0)\n",
    "        judger = Judger(player1, player2)\n",
    "        player2.load_policy()\n",
    "        winner = judger.play()\n",
    "        if winner == player2.symbol:\n",
    "            print(\"You lose!\")\n",
    "        elif winner == player1.symbol:\n",
    "            print(\"You win!\")\n",
    "        else:\n",
    "            print(\"It is a tie!\")\n",
    "\n",
    "# if __name__ == '__main__':\n",
    "#     train(int(1e5))\n",
    "#     compete(int(1e3))\n",
    "#     play()\n",
    "\n"
   ]
  },
  {
   "cell_type": "code",
   "execution_count": 6,
   "metadata": {},
   "outputs": [],
   "source": [
    "%matplotlib inline\n",
    "import matplotlib.pyplot as plt"
   ]
  },
  {
   "cell_type": "code",
   "execution_count": 19,
   "metadata": {},
   "outputs": [
    {
     "name": "stdout",
     "output_type": "stream",
     "text": [
      "CPU times: user 1min 13s, sys: 578 ms, total: 1min 13s\n",
      "Wall time: 1min 13s\n"
     ]
    }
   ],
   "source": [
    "%%time\n",
    "\n",
    "bothNonGreedy = train(int(1e5), p1Eps=0, p2Eps=0)"
   ]
  },
  {
   "cell_type": "code",
   "execution_count": 17,
   "metadata": {},
   "outputs": [
    {
     "data": {
      "text/plain": [
       "[<matplotlib.lines.Line2D at 0x7f0bfc8e8b38>]"
      ]
     },
     "execution_count": 17,
     "metadata": {},
     "output_type": "execute_result"
    },
    {
     "data": {
      "image/png": "[encoded data removed]",
      "text/plain": [
       "<Figure size 432x288 with 1 Axes>"
      ]
     },
     "metadata": {
      "needs_background": "light"
     },
     "output_type": "display_data"
    }
   ],
   "source": [
    "result = bothNonGreedy\n",
    "\n",
    "time  = list(map(lambda x: x[0], result))\n",
    "p1 = list(map(lambda x: x[1], result))\n",
    "p2 = list(map(lambda x: x[2], result))\n",
    "\n",
    "plt.plot(time, p1, 'r')\n",
    "plt.plot(time, p2, 'b')"
   ]
  },
  {
   "cell_type": "code",
   "execution_count": 18,
   "metadata": {
    "scrolled": true
   },
   "outputs": [
    {
     "name": "stdout",
     "output_type": "stream",
     "text": [
      "CPU times: user 1min 4s, sys: 393 ms, total: 1min 4s\n",
      "Wall time: 1min 4s\n"
     ]
    }
   ],
   "source": [
    "%%time\n",
    "\n",
    "bothDefault = train(int(1e5))"
   ]
  },
  {
   "cell_type": "code",
   "execution_count": 16,
   "metadata": {
    "scrolled": true
   },
   "outputs": [
    {
     "data": {
      "text/plain": [
       "[<matplotlib.lines.Line2D at 0x7f0bfc91f240>]"
      ]
     },
     "execution_count": 16,
     "metadata": {},
     "output_type": "execute_result"
    },
    {
     "data": {
      "image/png": "[encoded data removed]",
      "text/plain": [
       "<Figure size 432x288 with 1 Axes>"
      ]
     },
     "metadata": {
      "needs_background": "light"
     },
     "output_type": "display_data"
    }
   ],
   "source": [
    "result = bothDefault\n",
    "\n",
    "time  = list(map(lambda x: x[0], result))\n",
    "p1 = list(map(lambda x: x[1], result))\n",
    "p2 = list(map(lambda x: x[2], result))\n",
    "\n",
    "plt.plot(time, p1, 'r')\n",
    "plt.plot(time, p2, 'b')"
   ]
  },
  {
   "cell_type": "code",
   "execution_count": 20,
   "metadata": {},
   "outputs": [
    {
     "name": "stdout",
     "output_type": "stream",
     "text": [
      "CPU times: user 1min 4s, sys: 435 ms, total: 1min 4s\n",
      "Wall time: 1min 4s\n"
     ]
    }
   ],
   "source": [
    "%%time\n",
    "\n",
    "both10Perc = train(int(1e5), p1Eps=.1, p2Eps=.1)"
   ]
  },
  {
   "cell_type": "code",
   "execution_count": 21,
   "metadata": {},
   "outputs": [
    {
     "data": {
      "text/plain": [
       "[<matplotlib.lines.Line2D at 0x7f0bfc863748>]"
      ]
     },
     "execution_count": 21,
     "metadata": {},
     "output_type": "execute_result"
    },
    {
     "data": {
      "image/png": "[encoded data removed]",
      "text/plain": [
       "<Figure size 432x288 with 1 Axes>"
      ]
     },
     "metadata": {
      "needs_background": "light"
     },
     "output_type": "display_data"
    }
   ],
   "source": [
    "result = both10Perc\n",
    "\n",
    "time  = list(map(lambda x: x[0], result))\n",
    "p1 = list(map(lambda x: x[1], result))\n",
    "p2 = list(map(lambda x: x[2], result))\n",
    "\n",
    "plt.plot(time, p1, 'r')\n",
    "plt.plot(time, p2, 'b')"
   ]
  },
  {
   "cell_type": "code",
   "execution_count": 2,
   "metadata": {},
   "outputs": [
    {
     "name": "stdout",
     "output_type": "stream",
     "text": [
      "CPU times: user 58.3 s, sys: 376 ms, total: 58.7 s\n",
      "Wall time: 57.8 s\n"
     ]
    }
   ],
   "source": [
    "%%time\n",
    "\n",
    "bothNonGreedy = train(int(1e5), p1Eps=1, p2Eps=1)"
   ]
  },
  {
   "cell_type": "code",
   "execution_count": 8,
   "metadata": {},
   "outputs": [
    {
     "data": {
      "text/plain": [
       "[<matplotlib.lines.Line2D at 0x7f47a1f40550>]"
      ]
     },
     "execution_count": 8,
     "metadata": {},
     "output_type": "execute_result"
    },
    {
     "data": {
      "image/png": "[encoded data removed]",
      "text/plain": [
       "<Figure size 432x288 with 1 Axes>"
      ]
     },
     "metadata": {
      "needs_background": "light"
     },
     "output_type": "display_data"
    }
   ],
   "source": [
    "result = bothNonGreedy\n",
    "\n",
    "time, p1, p2 = zip(*result)\n",
    "\n",
    "plt.plot(time, p1, 'r')\n",
    "plt.plot(time, p2, 'b')"
   ]
  },
  {
   "cell_type": "code",
   "execution_count": 20,
   "metadata": {},
   "outputs": [
    {
     "name": "stdout",
     "output_type": "stream",
     "text": [
      "CPU times: user 56.8 s, sys: 567 ms, total: 57.4 s\n",
      "Wall time: 56.3 s\n"
     ]
    }
   ],
   "source": [
    "%%time\n",
    "\n",
    "NonGreedyVsGreedy = train(int(1e5), p1Eps=1, p2Eps=0)"
   ]
  },
  {
   "cell_type": "code",
   "execution_count": 18,
   "metadata": {},
   "outputs": [
    {
     "data": {
      "text/plain": [
       "[<matplotlib.lines.Line2D at 0x7f47b309c3c8>]"
      ]
     },
     "execution_count": 18,
     "metadata": {},
     "output_type": "execute_result"
    },
    {
     "data": {
      "image/png": "[encoded data removed]",
      "text/plain": [
       "<Figure size 432x288 with 1 Axes>"
      ]
     },
     "metadata": {
      "needs_background": "light"
     },
     "output_type": "display_data"
    }
   ],
   "source": [
    "result = NonGreedyVsGreedy\n",
    "\n",
    "time, p1, p2 = zip(*result)\n",
    "\n",
    "plt.plot(time, p1, 'r')\n",
    "plt.plot(time, p2, 'b')"
   ]
  }
 ],
 "metadata": {
  "kernelspec": {
   "display_name": "Python 3",
   "language": "python",
   "name": "python3"
  },
  "language_info": {
   "codemirror_mode": {
    "name": "ipython",
    "version": 3
   },
   "file_extension": ".py",
   "mimetype": "text/x-python",
   "name": "python",
   "nbconvert_exporter": "python",
   "pygments_lexer": "ipython3",
   "version": "3.7.1"
  }
 },
 "nbformat": 4,
 "nbformat_minor": 2
}
